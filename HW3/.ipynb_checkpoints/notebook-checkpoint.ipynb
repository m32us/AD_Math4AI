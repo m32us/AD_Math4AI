{
 "cells": [
  {
   "attachments": {},
   "cell_type": "markdown",
   "metadata": {},
   "source": [
    "# Phương pháp Toán cho TTNT"
   ]
  },
  {
   "attachments": {},
   "cell_type": "markdown",
   "metadata": {},
   "source": [
    "## Thông tin học sinh viên\n",
    "\n",
    "Họ tên: Lê Nhựt Nam\n",
    "\n",
    "MSHV: 22C11067"
   ]
  },
  {
   "cell_type": "code",
   "execution_count": 1,
   "metadata": {},
   "outputs": [],
   "source": [
    "import warnings\n",
    "warnings.filterwarnings(\"ignore\", category=DeprecationWarning) "
   ]
  },
  {
   "cell_type": "code",
   "execution_count": 2,
   "metadata": {},
   "outputs": [],
   "source": [
    "import numpy as np\n",
    "import matplotlib.pyplot as plt"
   ]
  },
  {
   "attachments": {},
   "cell_type": "markdown",
   "metadata": {},
   "source": [
    "## Phân tách tuyến tính để giải quyết bài toán hàm OR"
   ]
  },
  {
   "attachments": {},
   "cell_type": "markdown",
   "metadata": {},
   "source": [
    "Dữ liệu\n",
    "\n",
    "Với $a$, $b$ là đầu vào, $c$ là kết quả phép OR giữa $a$ và $b$\n",
    "\n",
    "| $a$  | $b$  | $c$  |\n",
    "|---|---|---|\n",
    "| 0  | 0  | 0  |\n",
    "| 0  | 1  | 1  |\n",
    "| 1  | 0  | 1  |\n",
    "| 1  | 1  | 1  |"
   ]
  },
  {
   "cell_type": "code",
   "execution_count": 3,
   "metadata": {},
   "outputs": [],
   "source": [
    "X_or = np.array([[0, 0, 1, 1], [0, 1, 0, 1]]).T\n",
    "y_or = np.array([0, 1, 1, 1]).reshape(-1, 1)"
   ]
  },
  {
   "cell_type": "code",
   "execution_count": 4,
   "metadata": {},
   "outputs": [
    {
     "data": {
      "text/plain": [
       "array([[1., 0., 0.],\n",
       "       [1., 0., 1.],\n",
       "       [1., 1., 0.],\n",
       "       [1., 1., 1.]])"
      ]
     },
     "execution_count": 4,
     "metadata": {},
     "output_type": "execute_result"
    }
   ],
   "source": [
    "X_or_Aug = np.c_[np.ones(X_or.shape[0]), X_or]\n",
    "X_or_Aug"
   ]
  },
  {
   "cell_type": "code",
   "execution_count": 5,
   "metadata": {},
   "outputs": [],
   "source": [
    "def sign(s):\n",
    "    return (0, 1)[s >= 0]"
   ]
  },
  {
   "cell_type": "code",
   "execution_count": 6,
   "metadata": {},
   "outputs": [],
   "source": [
    "def perceptron_or(x, w, b):\n",
    "    return sign((np.dot(x, w) - b)[0])"
   ]
  },
  {
   "cell_type": "code",
   "execution_count": 7,
   "metadata": {},
   "outputs": [
    {
     "data": {
      "text/plain": [
       "array([[0.25],\n",
       "       [0.5 ],\n",
       "       [0.5 ]])"
      ]
     },
     "execution_count": 7,
     "metadata": {},
     "output_type": "execute_result"
    }
   ],
   "source": [
    "w_or = np.linalg.pinv(X_or_Aug) @ y_or\n",
    "w_or"
   ]
  },
  {
   "cell_type": "code",
   "execution_count": 8,
   "metadata": {},
   "outputs": [
    {
     "name": "stdout",
     "output_type": "stream",
     "text": [
      "or(1, 1) = 1\n",
      "or(1, 0) = 1\n",
      "or(0, 1) = 1\n",
      "or(0, 0) = 0\n"
     ]
    }
   ],
   "source": [
    "print(\"or(1, 1) = {}\".format(perceptron_or(x=[1, 1], w=w_or[1:3], b=w_or[0]))) # 1\n",
    "print(\"or(1, 0) = {}\".format(perceptron_or(x=[1, 0], w=w_or[1:3], b=w_or[0]))) # 1\n",
    "print(\"or(0, 1) = {}\".format(perceptron_or(x=[0, 1], w=w_or[1:3], b=w_or[0]))) # 1\n",
    "print(\"or(0, 0) = {}\".format(perceptron_or(x=[0, 0], w=w_or[1:3], b=w_or[0]))) # 0"
   ]
  },
  {
   "attachments": {},
   "cell_type": "markdown",
   "metadata": {},
   "source": [
    "## Phân tách tuyến tính để giải quyết bài toán hàm AND"
   ]
  },
  {
   "attachments": {},
   "cell_type": "markdown",
   "metadata": {},
   "source": [
    "Dữ liệu\n",
    "\n",
    "Với $a$, $b$ là đầu vào, $c$ là kết quả phép AND giữa $a$ và $b$\n",
    "\n",
    "| $a$  | $b$  | $c$  |\n",
    "|---|---|---|\n",
    "| 0  | 0  | 0  |\n",
    "| 0  | 1  | 0  |\n",
    "| 1  | 0  | 0  |\n",
    "| 1  | 1  | 1  |"
   ]
  },
  {
   "cell_type": "code",
   "execution_count": 9,
   "metadata": {},
   "outputs": [],
   "source": [
    "X_and = np.array([[0, 0, 1, 1], [0, 1, 0, 1]]).T\n",
    "y_and = np.array([0, 0, 0, 1]).reshape(-1, 1)"
   ]
  },
  {
   "cell_type": "code",
   "execution_count": 10,
   "metadata": {},
   "outputs": [
    {
     "data": {
      "text/plain": [
       "array([[1., 0., 0.],\n",
       "       [1., 0., 1.],\n",
       "       [1., 1., 0.],\n",
       "       [1., 1., 1.]])"
      ]
     },
     "execution_count": 10,
     "metadata": {},
     "output_type": "execute_result"
    }
   ],
   "source": [
    "X_and_Aug = np.c_[np.ones(X_or.shape[0]), X_or]\n",
    "X_and_Aug"
   ]
  },
  {
   "cell_type": "code",
   "execution_count": 11,
   "metadata": {},
   "outputs": [
    {
     "data": {
      "text/plain": [
       "array([[-0.75],\n",
       "       [ 0.5 ],\n",
       "       [ 0.5 ]])"
      ]
     },
     "execution_count": 11,
     "metadata": {},
     "output_type": "execute_result"
    }
   ],
   "source": [
    "w_and = np.linalg.inv(X_and_Aug.T @ X_and_Aug) @ X_and_Aug.T @ y_and\n",
    "\n",
    "# Thêm bias :3, thực nghiệm em thấy nên trừ thêm 0.5 :D\n",
    "w_and[0] -= 0.5\n",
    "\n",
    "w_and"
   ]
  },
  {
   "cell_type": "code",
   "execution_count": 12,
   "metadata": {},
   "outputs": [],
   "source": [
    "def perceptron_and(x, w, b):\n",
    "    return sign((np.dot(x, w) + b)[0])"
   ]
  },
  {
   "cell_type": "code",
   "execution_count": 13,
   "metadata": {},
   "outputs": [
    {
     "name": "stdout",
     "output_type": "stream",
     "text": [
      "and(1, 1) = 1\n",
      "and(1, 0) = 0\n",
      "and(0, 1) = 0\n",
      "and(0, 0) = 0\n"
     ]
    }
   ],
   "source": [
    "print(\"and(1, 1) = {}\".format(perceptron_and(x=[1, 1], w=w_and[1:3], b=w_and[0]))) # 1\n",
    "print(\"and(1, 0) = {}\".format(perceptron_and(x=[1, 0], w=w_and[1:3], b=w_and[0]))) # 1\n",
    "print(\"and(0, 1) = {}\".format(perceptron_and(x=[0, 1], w=w_and[1:3], b=w_and[0]))) # 1\n",
    "print(\"and(0, 0) = {}\".format(perceptron_and(x=[0, 0], w=w_and[1:3], b=w_and[0]))) # 0"
   ]
  },
  {
   "attachments": {},
   "cell_type": "markdown",
   "metadata": {},
   "source": [
    "## Chơi đùa với hàm XOR bằng nhiều perceptron"
   ]
  },
  {
   "attachments": {},
   "cell_type": "markdown",
   "metadata": {},
   "source": [
    "### Đầu tiên là xử lý hàm NOT"
   ]
  },
  {
   "attachments": {},
   "cell_type": "markdown",
   "metadata": {},
   "source": [
    "Dữ liệu\n",
    "\n",
    "Với $a$, $b$ là đầu vào, $c$ là kết quả phép AND giữa $a$ và $b$\n",
    "\n",
    "| $a$  | $b$  |\n",
    "|---|---|\n",
    "| 0  | 1  |\n",
    "| 1  | 0  |"
   ]
  },
  {
   "cell_type": "code",
   "execution_count": 14,
   "metadata": {},
   "outputs": [],
   "source": [
    "X_not = np.array([0, 1]).reshape(-1, 1)\n",
    "y_not = np.array([1, 0]).reshape(-1, 1)"
   ]
  },
  {
   "cell_type": "code",
   "execution_count": 15,
   "metadata": {},
   "outputs": [
    {
     "data": {
      "text/plain": [
       "array([[1., 0.],\n",
       "       [1., 1.]])"
      ]
     },
     "execution_count": 15,
     "metadata": {},
     "output_type": "execute_result"
    }
   ],
   "source": [
    "X_not_Aug = np.c_[np.ones(X_not.shape[0]), X_not]\n",
    "X_not_Aug"
   ]
  },
  {
   "cell_type": "code",
   "execution_count": 16,
   "metadata": {},
   "outputs": [
    {
     "data": {
      "text/plain": [
       "array([[ 1.],\n",
       "       [-1.]])"
      ]
     },
     "execution_count": 16,
     "metadata": {},
     "output_type": "execute_result"
    }
   ],
   "source": [
    "w_not = np.linalg.pinv(X_not_Aug) @ y_not\n",
    "w_not"
   ]
  },
  {
   "cell_type": "code",
   "execution_count": 17,
   "metadata": {},
   "outputs": [],
   "source": [
    "def perceptron_not(x, w, b):\n",
    "    return sign((np.dot(x, w) + b)[0])"
   ]
  },
  {
   "cell_type": "code",
   "execution_count": 18,
   "metadata": {},
   "outputs": [
    {
     "name": "stdout",
     "output_type": "stream",
     "text": [
      "not(1) = 0\n",
      "not(0) = 1\n"
     ]
    }
   ],
   "source": [
    "print(\"not(1) = {}\".format(perceptron_not(x=[1], w=w_not[1], b=w_not[0]))) # 0\n",
    "print(\"not(0) = {}\".format(perceptron_not(x=[0], w=w_not[1], b=w_not[0]))) # 1"
   ]
  },
  {
   "attachments": {},
   "cell_type": "markdown",
   "metadata": {},
   "source": [
    "Ta biến đổi\n",
    "\n",
    "$$\n",
    "\\text{XOR}(x, y) = \\text{AND}(OR(x, y), \\text{NOT}(\\text{AND}(x, y)))\n",
    "$$"
   ]
  },
  {
   "cell_type": "code",
   "execution_count": 19,
   "metadata": {},
   "outputs": [],
   "source": [
    "def xor_perceptron(x, w_and=w_and, w_not=w_not, w_or=w_or):\n",
    "    and_x = perceptron_and(x=x, w=w_and[1:3], b=w_and[0])\n",
    "    not_x = perceptron_not(x=and_x, w=w_not[1], b=w_not[0])\n",
    "    or_x = perceptron_or(x=x, w=w_or[1:3], b=w_or[0])\n",
    "    x = perceptron_and(x=[not_x, or_x], w=w_and[1:3], b=w_and[0])\n",
    "    return x"
   ]
  },
  {
   "cell_type": "code",
   "execution_count": 20,
   "metadata": {},
   "outputs": [
    {
     "name": "stdout",
     "output_type": "stream",
     "text": [
      "xor(1, 1) = 0\n",
      "xor(1, 0) = 1\n",
      "xor(0, 1) = 1\n",
      "xor(0, 0) = 0\n"
     ]
    }
   ],
   "source": [
    "print(\"xor(1, 1) = {}\".format(xor_perceptron([1, 1]))) # 0\n",
    "print(\"xor(1, 0) = {}\".format(xor_perceptron([1, 0]))) # 1\n",
    "print(\"xor(0, 1) = {}\".format(xor_perceptron([0, 1]))) # 1\n",
    "print(\"xor(0, 0) = {}\".format(xor_perceptron([0, 0]))) # 0"
   ]
  }
 ],
 "metadata": {
  "kernelspec": {
   "display_name": "base",
   "language": "python",
   "name": "python3"
  },
  "language_info": {
   "codemirror_mode": {
    "name": "ipython",
    "version": 3
   },
   "file_extension": ".py",
   "mimetype": "text/x-python",
   "name": "python",
   "nbconvert_exporter": "python",
   "pygments_lexer": "ipython3",
   "version": "3.9.13"
  },
  "orig_nbformat": 4,
  "vscode": {
   "interpreter": {
    "hash": "ec2e170b6d4bf3d46d57f224595cf16d7a6f54651521a92baba5947bceaad0f8"
   }
  }
 },
 "nbformat": 4,
 "nbformat_minor": 2
}
