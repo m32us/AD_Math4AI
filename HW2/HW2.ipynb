{
 "cells": [
  {
   "attachments": {},
   "cell_type": "markdown",
   "metadata": {},
   "source": [
    "# Phương pháp toán nâng cao cho TTNT\n",
    "\n",
    "Thông tin học viên\n",
    "- Họ và tên: Lê Nhựt Nam\n",
    "- MSHV: 22C11067\n",
    "\n",
    "Bài tập về nhà\n",
    "\n",
    "**BT1**: \n",
    "\n",
    "Khảo sát 2 đại lượng $x, y$. Cho bảng dữ liệu sau:\n",
    "\n",
    "| $x$  \t|  0.1 \t|  0.2 \t|  0.3 \t|  0.4 \t|\n",
    "|---\t|---\t|---\t|---\t|---\t|\n",
    "| $y$  \t|  10.1 \t|  10.4 \t|  10.7 \t|  11.2 \t|\n",
    "\n",
    "Với mô hình được cho sau, xác định các tham số a, b, c của mô hình\n",
    "\n",
    "$$\n",
    "y = f(x) = ax^2 + bx + c\n",
    "$$\n",
    "\n",
    "***Lời giải***: Dùng phương pháp bình phương tối tiểu (ordinary least squares) để giải quyết bài toán\n",
    "\n",
    "Rất dễ dàng có được dạng cho bài toán:\n",
    "\n",
    "$$\n",
    "y = \\boldsymbol x^\\top\\boldsymbol\\theta + \\epsilon\\,,\\quad \\epsilon \\sim \\mathcal N(0, \\sigma^2)\n",
    "$$\n",
    "Trong đó $\\boldsymbol x\\in\\mathbb{R}^D$ là các giá trị đầu vào (biến độc lập) và $y\\in\\mathbb{R}$ là giá trị quan sát (biến phụ thuộc).  Parameter vector $\\boldsymbol\\theta\\in\\mathbb{R}^D$ tham số hóa hàm số.\n",
    "\n",
    "Sử dụng ước lượng triển vọng cực đại (Maximum Likelihood Estimate), ta có thể hoàn toàn tìm được tham số $\\boldsymbol\\theta^{\\mathrm{ML}}$ mà cực đại triển vọng:\n",
    "\n",
    "$$\n",
    "p(\\mathcal Y | \\mathcal X, \\boldsymbol\\theta) = \\prod_{n=1}^N p(y_n | \\boldsymbol x_n, \\boldsymbol\\theta)\\,.\n",
    "$$\n",
    "\n",
    "Chứng minh được nghiệm bài toán là duy nhất và có công thức là:\n",
    "\n",
    "$$\n",
    "\\boldsymbol\\theta^{\\text{ML}} = (\\boldsymbol X^\\top\\boldsymbol X)^{-1}\\boldsymbol X^\\top\\boldsymbol y\\in\\mathbb{R}^D\\,,\n",
    "$$\n",
    "Trong đó:\n",
    "$$\n",
    "\\boldsymbol X = [\\boldsymbol x_1, \\ldots, \\boldsymbol x_N]^\\top\\in\\mathbb{R}^{N\\times D}\\,,\\quad \\boldsymbol y = [y_1, \\ldots, y_N]^\\top \\in\\mathbb{R}^N\\,.\n",
    "$$\n",
    "\n",
    "**Nhưng mô hình cần ước lượng không phải dạng đường thẳng, đó là một đường cong**. Có nghĩa là, chúng ta cần học một hàm\n",
    "\n",
    "$$\n",
    "f(\\boldsymbol x, \\boldsymbol\\theta) = \\sum_{k = 1}^K \\theta_k \\phi_k(\\boldsymbol x)\\,,\n",
    "$$\n",
    "Trong đó: đặc trưng $\\phi_k(\\boldsymbol x)$ (có khả năng phi tuyến) biến đổi của các giá trị đầu vào $\\boldsymbol x$.\n",
    "\n",
    "Nhìn vào dạng mô hình trên, đó là một đa thức bậc hai (một cách tổng quát cho trường hợp đa thức bậc K)\n",
    "\n",
    "$$\n",
    "\\sum_{k=0}^K \\theta_k x^k = \\boldsymbol \\phi(x)^\\top\\boldsymbol\\theta\\,,\\quad\n",
    "\\boldsymbol\\phi(x)= \n",
    "\\begin{bmatrix}\n",
    "x^0\\\\\n",
    "x^1\\\\\n",
    "\\vdots\\\\\n",
    "x^K\n",
    "\\end{bmatrix}\\in\\mathbb{R}^{K+1}\\,.\n",
    "$$\n",
    "\n",
    "$\\boldsymbol\\phi(x)$ là một đặc trưng biến đổi phi tuyến của các giá trị đầu vào $x\\in\\mathbb{R}$.\n",
    "\n",
    "Một cách tương tự, định nghĩa lại ma trận cho tất cả các biến đổi đặc trưng phi tuyến cho dữ liệu đầu vào:\n",
    "$$\n",
    "\\boldsymbol\\Phi = \\begin{bmatrix}\n",
    "\\boldsymbol\\phi(x_1) & \\boldsymbol\\phi(x_2) & \\cdots & \\boldsymbol\\phi(x_n)\n",
    "\\end{bmatrix}^\\top \\in\\mathbb{R}^{N\\times K+1}\n",
    "$$\n",
    "\n",
    "Chứng minh được nghiệm bài toán là duy nhất và có công thức là:\n",
    "\n",
    "$$\n",
    "\\boldsymbol \\theta^\\text{ML} = (\\boldsymbol\\Phi^\\top\\boldsymbol\\Phi)^{-1}\\boldsymbol\\Phi^\\top\\boldsymbol y\n",
    "$$\n",
    "\n",
    "***Nghiệm tối ưu hóa tính toán số học***:\n",
    "\n",
    "$$\n",
    "\\boldsymbol \\theta^\\text{ML} = (\\boldsymbol\\Phi^\\top\\boldsymbol\\Phi + \\kappa\\boldsymbol I)^{-1}\\boldsymbol\\Phi^\\top\\boldsymbol y, \\kappa>0\n",
    "$$"
   ]
  },
  {
   "cell_type": "code",
   "execution_count": 2,
   "metadata": {},
   "outputs": [],
   "source": [
    "import numpy as np\n",
    "import matplotlib.pyplot as plt"
   ]
  },
  {
   "cell_type": "code",
   "execution_count": 4,
   "metadata": {},
   "outputs": [
    {
     "data": {
      "image/png": "[encoded data removed]",
      "text/plain": [
       "<Figure size 640x480 with 1 Axes>"
      ]
     },
     "metadata": {},
     "output_type": "display_data"
    }
   ],
   "source": [
    "# Định nghĩa tập huấn luyện\n",
    "X = np.array([0.1, 0.2, 0.3, 0.4]).reshape(-1,1) # 4x1 vector, N=4, D=1\n",
    "y = np.array([10.1, 10.2, 10.7, 11.2]).reshape(-1,1) # 4x1 vector\n",
    "\n",
    "# Trực quan hóa\n",
    "plt.figure()\n",
    "plt.plot(X, y, '+', markersize=10)\n",
    "plt.xlabel(\"$x$\")\n",
    "plt.ylabel(\"$y$\");"
   ]
  },
  {
   "cell_type": "code",
   "execution_count": 7,
   "metadata": {},
   "outputs": [
    {
     "data": {
      "text/plain": [
       "array([[1.  , 0.1 , 0.01],\n",
       "       [1.  , 0.2 , 0.04],\n",
       "       [1.  , 0.3 , 0.09],\n",
       "       [1.  , 0.4 , 0.16]])"
      ]
     },
     "execution_count": 7,
     "metadata": {},
     "output_type": "execute_result"
    }
   ],
   "source": [
    "# Tính toán đặc trưng phi tuyến\n",
    "# X: đầu vào có size N x 1\n",
    "# K: bậc của đa thức\n",
    "# tính toán ma trận đặc trưng Phi (N x (K+1))\n",
    "\n",
    "N = X.shape[0]\n",
    "K = 2\n",
    "\n",
    "X = X.flatten()\n",
    "\n",
    "Phi = np.zeros((N, K+1))\n",
    "for k in range(K+1):\n",
    "    Phi[:,k] = X**k\n",
    "    \n",
    "Phi"
   ]
  },
  {
   "cell_type": "code",
   "execution_count": 26,
   "metadata": {},
   "outputs": [
    {
     "data": {
      "text/plain": [
       "array([[10.09998591],\n",
       "       [-1.19986045],\n",
       "       [ 9.99972238]])"
      ]
     },
     "execution_count": 26,
     "metadata": {},
     "output_type": "execute_result"
    }
   ],
   "source": [
    "kappa = 1e-08\n",
    "theta_ml = np.linalg.inv(Phi.T @ Phi + kappa*np.eye(Phi.shape[1])) @ Phi.T @ y\n",
    "theta_ml"
   ]
  },
  {
   "cell_type": "code",
   "execution_count": 27,
   "metadata": {},
   "outputs": [
    {
     "data": {
      "image/png": "[encoded data removed]",
      "text/plain": [
       "<Figure size 640x480 with 1 Axes>"
      ]
     },
     "metadata": {},
     "output_type": "display_data"
    }
   ],
   "source": [
    "Xtest = np.linspace(0.1,0.5,10).reshape(-1,1)\n",
    "\n",
    "Xtest = Xtest.flatten()\n",
    "\n",
    "Phi_test = np.zeros((Xtest.shape[0], K+1))\n",
    "for k in range(K+1):\n",
    "    Phi_test[:,k] = Xtest**k\n",
    "\n",
    "y_pred = Phi_test @ theta_ml\n",
    "\n",
    "plt.figure()\n",
    "plt.plot(X, y, '+')\n",
    "plt.plot(Xtest, y_pred)\n",
    "plt.xlabel(\"$x$\")\n",
    "plt.ylabel(\"$y$\");"
   ]
  },
  {
   "attachments": {},
   "cell_type": "markdown",
   "metadata": {},
   "source": [
    "**BT2**\n",
    "\n",
    "Tương tự BT1\n",
    "\n",
    "Khảo sát 2 đại lượng $x, y$. Cho bảng dữ liệu sau:\n",
    "\n",
    "| $x_1$  \t|  $x_2$ \t|  $y$ \t|\n",
    "|---\t|---\t|---\t|\n",
    "|  1 \t|  2 \t|  3 \t|\n",
    "|  2 \t|  1 \t|  5 \t|\n",
    "|  3 \t|  4 \t|  13 \t|\n",
    "|  4 \t|  1 \t|  17 \t|\n",
    "\n",
    "Với 2 mô hình tự đề xuất, xác định các tham số của mô hình.\n",
    "\n",
    "***Lời giải***: Nhận thấy dữ liệu có thể mô hình hóa đơn giản bằng mô hình hồi quy tuyến tính bội \n",
    "\n",
    "$$y_i = \\theta_0 + \\sum_{j=1}^p\\theta_jx_{ij} + e_i, \\forall i \\in \\{1,...,n\\}$$\n",
    "Trong đó:\n",
    "- $y_i \\in \\mathbb{R}$ là giá trị thực tương ứng với quan sát thứ $i$\n",
    "- $\\theta_0 \\in R$ là hệ số chặn hồi quy (regression intercept)\n",
    "- $\\theta_j \\in \\mathbb{R}$ là các hệ số hồi quy (regression slope) của giá trị dự đoán thứ $j$\n",
    "- $x_{ij} \\in \\mathbb{R}$ là giá trị dự đoán thứ $j$ cho quan sát thứ $i$\n",
    "- $e_i \\overset{\\underset{\\mathrm{iid}}{}}{\\sim} \\mathcal{N}(0, \\sigma^2)$ một Gaussian Error\n",
    "\n",
    "Hay viết gọn hơn bằng dạng ma trận như sau\n",
    "\n",
    "$$\\mathbf{y = X\\theta + e}$$\n",
    "Trong đó:\n",
    "- $\\mathbf{y} = (y_1, y_2, ..., y_n)' \\in \\mathbb{R}^n$ có kích thước $n \\times 1$ là vector các giá trị tương ứng với biến quan sát\n",
    "- $\\mathbf{X = [1_n, x_1, x_2, ..., x_p]} \\in \\mathbb{R}^{n\\times (p+1)}$ có kích thước  $n \\times (p + 1)$ là ma trận biến quan sát\n",
    "- $\\mathbf{\\theta} = (\\theta_0, \\theta_1, \\theta_2, ..., \\theta_p)' \\in \\mathbb{R}^{p+1}$ có kích thước $(p + 1) \\times n$ là vector các hệ số hồi quy (coefficient vector)\n",
    "- $\\mathbf{e} = (e_1, e_2, ..., e_n)' \\in \\mathbb{R}^n$ là vector độ lỗi (error vector)\n",
    "\n",
    "Chứng minh được bài toán có nghiệm duy nhất bằng phương pháp ước lượng triển vọng cực đại\n",
    "\n",
    "$$\n",
    "\\boldsymbol \\theta^\\text{ML} = (\\mathbf{X}^\\top\\mathbf{X})^{-1}\\mathbf{X}^\\top\\boldsymbol y\n",
    "$$"
   ]
  },
  {
   "cell_type": "code",
   "execution_count": 50,
   "metadata": {},
   "outputs": [],
   "source": [
    "# Định nghĩa tập huấn luyện\n",
    "X = np.array([[1, 2], [2, 1], [3, 4], [4, 1]])\n",
    "y = np.array([3, 5, 13, 17])"
   ]
  },
  {
   "cell_type": "code",
   "execution_count": 38,
   "metadata": {},
   "outputs": [
    {
     "data": {
      "text/plain": [
       "array([[1., 1., 2.],\n",
       "       [1., 2., 1.],\n",
       "       [1., 3., 4.],\n",
       "       [1., 4., 1.]])"
      ]
     },
     "execution_count": 38,
     "metadata": {},
     "output_type": "execute_result"
    }
   ],
   "source": [
    "X_aug = np.hstack([np.ones((X.shape[0],1)), X])\n",
    "X_aug"
   ]
  },
  {
   "cell_type": "code",
   "execution_count": 42,
   "metadata": {},
   "outputs": [
    {
     "name": "stdout",
     "output_type": "stream",
     "text": [
      "Dạng hàm thứ nhất: f(x) = 4.999999999999999x_1 + 0.6666666666666687x_2 + -4.33333333333333\n"
     ]
    }
   ],
   "source": [
    "theta_ml = np.linalg.pinv(X_aug) @ y\n",
    "print(\"Dạng hàm thứ nhất: f(x_1, x_2) = {}x_1 + {}x_2 + {}\".format(theta_ml[1], theta_ml[2], theta_ml[0]))"
   ]
  },
  {
   "cell_type": "code",
   "execution_count": 41,
   "metadata": {},
   "outputs": [
    {
     "data": {
      "text/plain": [
       "array([-1.        ,  1.33333333,  0.33333333, -0.66666667])"
      ]
     },
     "execution_count": 41,
     "metadata": {},
     "output_type": "execute_result"
    }
   ],
   "source": [
    "# Phần dư r\n",
    "X_aug @ theta_ml - y"
   ]
  },
  {
   "cell_type": "code",
   "execution_count": 55,
   "metadata": {},
   "outputs": [
    {
     "data": {
      "text/plain": [
       "array([[  1,   2,   4,   1,   2,   4,   1,   2,   4],\n",
       "       [  1,   1,   1,   2,   2,   2,   4,   4,   4],\n",
       "       [  1,   4,  16,   3,  12,  48,   9,  36, 144],\n",
       "       [  1,   1,   1,   4,   4,   4,  16,  16,  16]])"
      ]
     },
     "execution_count": 55,
     "metadata": {},
     "output_type": "execute_result"
    }
   ],
   "source": [
    "def polynomial_features(x, order):\n",
    "    x = np.asarray(x).T[np.newaxis]\n",
    "    n = x.shape[1]\n",
    "    power_matrix = np.tile(np.arange(order + 1), (n, 1)).T[..., np.newaxis]\n",
    "    X = np.power(x, power_matrix)\n",
    "    I = np.indices((order + 1, ) * n).reshape((n, (order + 1) ** n)).T\n",
    "    F = np.product(np.diagonal(X[I], 0, 1, 2), axis=2)\n",
    "    return F.T\n",
    "\n",
    "Phi_X = polynomial_features(X, 2)\n",
    "Phi_X"
   ]
  },
  {
   "cell_type": "code",
   "execution_count": 60,
   "metadata": {},
   "outputs": [
    {
     "name": "stdout",
     "output_type": "stream",
     "text": [
      "Dạng hàm thứ hai: f(x_1, x_2) = 0.13688512309179662 + 0.19963250473706284x1 + 0.17306491081965936x1**2 + 0.18339569086805763x2 + 0.07779978631944456x1*x2 + 0.5900341336632491x1**2*x2 + 0.4741074490662376x2**2 + -0.13651831406401346x1*x2**2 + 0.08446852149492834x1**2*x2**2\n"
     ]
    }
   ],
   "source": [
    "theta_ml = np.linalg.pinv(Phi_X) @ y\n",
    "theta_ml\n",
    "print(\"Dạng hàm thứ hai: f(x_1, x_2) = {} + {}x1 + {}x1**2 + {}x2 + {}x1*x2 + {}x1**2*x2 + {}x2**2 + {}x1*x2**2 + {}x1**2*x2**2\".format(theta_ml[1], theta_ml[2], theta_ml[3], theta_ml[4], theta_ml[5], theta_ml[6], theta_ml[7], theta_ml[8], theta_ml[0]))"
   ]
  },
  {
   "cell_type": "code",
   "execution_count": 61,
   "metadata": {},
   "outputs": [
    {
     "data": {
      "text/plain": [
       "array([-3.55271368e-15,  3.55271368e-15, -1.77635684e-14,  3.55271368e-15])"
      ]
     },
     "execution_count": 61,
     "metadata": {},
     "output_type": "execute_result"
    }
   ],
   "source": [
    "# Phần dư r\n",
    "Phi_X @ theta_ml - y"
   ]
  }
 ],
 "metadata": {
  "kernelspec": {
   "display_name": "base",
   "language": "python",
   "name": "python3"
  },
  "language_info": {
   "codemirror_mode": {
    "name": "ipython",
    "version": 3
   },
   "file_extension": ".py",
   "mimetype": "text/x-python",
   "name": "python",
   "nbconvert_exporter": "python",
   "pygments_lexer": "ipython3",
   "version": "3.9.13"
  },
  "orig_nbformat": 4,
  "vscode": {
   "interpreter": {
    "hash": "ec2e170b6d4bf3d46d57f224595cf16d7a6f54651521a92baba5947bceaad0f8"
   }
  }
 },
 "nbformat": 4,
 "nbformat_minor": 2
}
